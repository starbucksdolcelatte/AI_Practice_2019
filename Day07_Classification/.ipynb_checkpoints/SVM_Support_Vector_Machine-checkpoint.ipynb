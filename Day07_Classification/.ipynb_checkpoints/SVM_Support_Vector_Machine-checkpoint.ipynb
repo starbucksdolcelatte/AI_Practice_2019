{
 "cells": [
  {
   "cell_type": "markdown",
   "metadata": {},
   "source": [
    "# Support Vector Machine\n",
    "SVM은 이진 분류를 위해 사용되는 알고리즘입니다.<br>\n",
    "maximum margin을 기준으로 hyperplane을 그어줌으로써 두 클래스를 구분합니다.<br>\n",
    "각 클래스에서 hyperplane과 가장 가까운 데이터가 support vector입니다."
   ]
  },
  {
   "cell_type": "code",
   "execution_count": 1,
   "metadata": {},
   "outputs": [],
   "source": [
    "import pandas as pd\n",
    "import numpy as np\n",
    "import matplotlib.pyplot as plt\n",
    "from sklearn.model_selection import train_test_split\n",
    "from sklearn.svm import SVC\n",
    "from sklearn.metrics import classification_report, confusion_matrix\n",
    "from sklearn.datasets import load_breast_cancer # breast_cancer 데이타는 클래스가 2개"
   ]
  },
  {
   "cell_type": "code",
   "execution_count": 5,
   "metadata": {},
   "outputs": [],
   "source": [
    "data = load_breast_cancer()\n",
    "train_X, test_X, train_y, test_y = train_test_split(data.data, data.target, test_size = 0.2)\n",
    "\n",
    "# Linear SVM\n",
    "svm = SVC(kernel = 'linear')\n",
    "svm.fit(train_X, train_y)\n",
    "pred_y = svm.predict(test_X)"
   ]
  },
  {
   "cell_type": "code",
   "execution_count": 13,
   "metadata": {},
   "outputs": [
    {
     "name": "stdout",
     "output_type": "stream",
     "text": [
      "**Confusion Matrix**\n",
      "tn = 44   fp = 4\n",
      "fn = 3    tp = 63\n",
      "\n",
      "**Report**\n",
      "             precision    recall  f1-score   support\n",
      "\n",
      "          0       0.94      0.92      0.93        48\n",
      "          1       0.94      0.95      0.95        66\n",
      "\n",
      "avg / total       0.94      0.94      0.94       114\n",
      "\n"
     ]
    }
   ],
   "source": [
    "print('**Confusion Matrix**')\n",
    "tn, fp, fn, tp = confusion_matrix(test_y, pred_y).ravel()\n",
    "print(f'tn = {tn}   fp = {fp}\\nfn = {fn}    tp = {tp}')\n",
    "print('\\n**Report**')\n",
    "print(classification_report(test_y, pred_y))"
   ]
  },
  {
   "cell_type": "code",
   "execution_count": null,
   "metadata": {},
   "outputs": [],
   "source": []
  }
 ],
 "metadata": {
  "kernelspec": {
   "display_name": "Python 3",
   "language": "python",
   "name": "python3"
  },
  "language_info": {
   "codemirror_mode": {
    "name": "ipython",
    "version": 3
   },
   "file_extension": ".py",
   "mimetype": "text/x-python",
   "name": "python",
   "nbconvert_exporter": "python",
   "pygments_lexer": "ipython3",
   "version": "3.6.5"
  }
 },
 "nbformat": 4,
 "nbformat_minor": 2
}
